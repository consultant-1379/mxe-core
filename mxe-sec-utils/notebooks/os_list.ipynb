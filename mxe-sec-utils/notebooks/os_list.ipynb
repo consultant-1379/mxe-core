{
 "cells": [
  {
   "cell_type": "code",
   "execution_count": 1,
   "metadata": {},
   "outputs": [],
   "source": [
    "import os, json\n",
    "import pandas as pd\n",
    "import requests"
   ]
  },
  {
   "cell_type": "code",
   "execution_count": 2,
   "metadata": {},
   "outputs": [
    {
     "name": "stdout",
     "output_type": "stream",
     "text": [
      "../../.bob/va-reports/anchore\n",
      "../../.bob/va-reports/analysis-reports/anchore/\n"
     ]
    }
   ],
   "source": [
    "input_dir = os.getenv('ANCHORE_SCAN_REPORTS_DIR', default = '../../.bob/va-reports/anchore')\n",
    "output_dir = os.getenv('ANCHORE_ANALYSIS_REPORTS_DIR', default ='../../.bob/va-reports/analysis-reports/anchore/')\n",
    "\n",
    "print(input_dir)\n",
    "print(output_dir)"
   ]
  },
  {
   "cell_type": "code",
   "execution_count": null,
   "metadata": {},
   "outputs": [],
   "source": [
    "from datetime import datetime\n",
    "runDate= datetime.today().strftime('%Y%m%d')\n",
    "runDate"
   ]
  },
  {
   "cell_type": "code",
   "execution_count": 3,
   "metadata": {},
   "outputs": [
    {
     "name": "stdout",
     "output_type": "stream",
     "text": [
      "['../../.bob/va-reports/anchore/internal-reports/jupyterhub_2.2.0-167-sbom.json', '../../.bob/va-reports/anchore/internal-reports/kubernetes-modifier_2.2.0-167-sbom.json', '../../.bob/va-reports/anchore/internal-reports/mxe-deployer-init_2.2.0-167-sbom.json', '../../.bob/va-reports/anchore/internal-reports/mxe-deployer-service_2.2.0-167-sbom.json', '../../.bob/va-reports/anchore/internal-reports/default-backend_2.2.0-167-sbom.json', '../../.bob/va-reports/anchore/internal-reports/model-service_2.2.0-167-sbom.json', '../../.bob/va-reports/anchore/internal-reports/model-catalogue-service_2.2.0-167-sbom.json', '../../.bob/va-reports/anchore/internal-reports/keycloak-init_2.2.0-167-sbom.json', '../../.bob/va-reports/anchore/internal-reports/nifi-service_2.2.0-167-sbom.json', '../../.bob/va-reports/anchore/internal-reports/nifi-base_2.2.0-167-sbom.json', '../../.bob/va-reports/anchore/internal-reports/pypi-eea_2.2.0-167-sbom.json', '../../.bob/va-reports/anchore/internal-reports/eric-mxe-gatekeeper_2.2.0-167-sbom.json', '../../.bob/va-reports/anchore/internal-reports/jupyterlab_2.2.0-167-sbom.json', '../../.bob/va-reports/anchore/internal-reports/pre-upgrade-job_2.2.0-167-sbom.json', '../../.bob/va-reports/anchore/internal-reports/gui_2.2.0-167-sbom.json', '../../.bob/va-reports/anchore/internal-reports/kafka-pyconsumer_2.2.0-167-sbom.json', '../../.bob/va-reports/anchore/internal-reports/db-init_2.2.0-167-sbom.json', '../../.bob/va-reports/anchore/internal-reports/stateful-model-transformer_2.2.0-167-sbom.json', '../../.bob/va-reports/anchore/internal-reports/model-training-service_2.2.0-167-sbom.json', '../../.bob/va-reports/anchore/internal-reports/author-service_2.2.0-167-sbom.json', '../../.bob/va-reports/anchore/3pp-reports/controller_v1.1.1-sbom.json', '../../.bob/va-reports/anchore/3pp-reports/spark-operator_3.45-1.1.15-sbom.json', '../../.bob/va-reports/anchore/3pp-reports/workflow-controller_v3.1.8-sbom.json', '../../.bob/va-reports/anchore/3pp-reports/redis_6.0.7-ubuntu-20220105-sbom.json', '../../.bob/va-reports/anchore/3pp-reports/k8s-network-tools_1.1.3-alpine3.15.0-sbom.json', '../../.bob/va-reports/anchore/3pp-reports/configurable-http-proxy_4.5.0-alpine3.15-sbom.json', '../../.bob/va-reports/anchore/3pp-reports/k8s-image-awaiter_1.1.3-sbom.json', '../../.bob/va-reports/anchore/3pp-reports/mxe-memcached_1.6.9-ubuntu-20220105-sbom.json', '../../.bob/va-reports/anchore/3pp-reports/model-training-packager_1.7.0-20220203-sbom.json', '../../.bob/va-reports/anchore/3pp-reports/argoexec_v3.1.8-ubuntu-20220105-sbom.json', '../../.bob/va-reports/anchore/3pp-reports/haproxy_2.0.4-ubuntu-20220105-sbom.json', '../../.bob/va-reports/anchore/3pp-reports/pypiserver_1.4.2-alpine3.15-sbom.json', '../../.bob/va-reports/anchore/3pp-reports/seldon-core-s2i-python37_1.12.0-ubuntu-20220105-sbom.json', '../../.bob/va-reports/anchore/3pp-reports/ambassador_1.14.2-alpine-3.15-sbom.json', '../../.bob/va-reports/anchore/3pp-reports/model-packager_1.7.0-20220203-sbom.json', '../../.bob/va-reports/anchore/3pp-reports/argocli_v3.1.8-sbom.json', '../../.bob/va-reports/anchore/3pp-reports/mxe-gitea_v1.15.3-ubuntu-20220105-rootless-sbom.json', '../../.bob/va-reports/anchore/3pp-reports/seldon-core-operator_1.12.0-ubuntu-20220105-sbom.json', '../../.bob/va-reports/anchore/3pp-reports/seldon-core-executor_1.12.0-ubuntu-20220105-sbom.json', '../../.bob/va-reports/anchore/3pp-reports/pause_3.1-sbom.json', '../../.bob/va-reports/anchore/3pp-reports/argocd_v2.1.10-ubuntu-20220105-sbom.json', '../../.bob/va-reports/anchore/3pp-reports/metrics-server-amd64_v0.5.2-sbom.json', '../../.bob/va-reports/anchore/3pp-reports/mc_RELEASE.2021-04-22T17-40-00Z-ubuntu-20220105-sbom.json', '../../.bob/va-reports/anchore/3pp-reports/python-base_3.7-20220203-sbom.json', '../../.bob/va-reports/anchore/2pp-reports/eric-data-wide-column-database-cd_6.1.0-5-sbom.json', '../../.bob/va-reports/anchore/2pp-reports/eric-sec-access-mgmt-initcontainer_9.1.0-36-sbom.json', '../../.bob/va-reports/anchore/2pp-reports/eric-cr-init_6.0.0-11-sbom.json', '../../.bob/va-reports/anchore/2pp-reports/eric-data-wide-column-database-cd-brsc_1.2.41-5-sbom.json', '../../.bob/va-reports/anchore/2pp-reports/eric-mesh-proxy_5.0.0-114-sbom.json', '../../.bob/va-reports/anchore/2pp-reports/eric-cr-registry_6.0.0-11-sbom.json', '../../.bob/va-reports/anchore/2pp-reports/eric-pm-server_7.1.0-22-sbom.json', '../../.bob/va-reports/anchore/2pp-reports/eric-data-document-database-metrics_7.0.0-49-sbom.json', '../../.bob/va-reports/anchore/2pp-reports/eric-data-coordinator-zk_1.25.0-20-sbom.json', '../../.bob/va-reports/anchore/2pp-reports/eric-data-wide-column-database-cd-ecchronos_1.0.20-6-sbom.json', '../../.bob/va-reports/anchore/2pp-reports/eric-data-object-storage-mn_1.20.0-25-sbom.json', '../../.bob/va-reports/anchore/2pp-reports/eric-data-object-storage-mn-init_1.20.0-25-sbom.json', '../../.bob/va-reports/anchore/2pp-reports/eric-data-wide-column-database-cd-bra_1.1.32-8-sbom.json', '../../.bob/va-reports/anchore/2pp-reports/eric-data-document-database-kube-client_7.0.0-49-sbom.json', '../../.bob/va-reports/anchore/2pp-reports/eric-pm-reverseproxy_7.1.0-22-sbom.json', '../../.bob/va-reports/anchore/2pp-reports/eric-data-coordinator-zk-metrics-exporter_1.25.0-20-sbom.json', '../../.bob/va-reports/anchore/2pp-reports/eric-mesh-controller_5.0.0-114-sbom.json', '../../.bob/va-reports/anchore/2pp-reports/eric-data-coordinator-zk-bragent_1.25.0-20-sbom.json', '../../.bob/va-reports/anchore/2pp-reports/eric-mesh-tools_5.0.0-114-sbom.json', '../../.bob/va-reports/anchore/2pp-reports/eric-cr-sidecar_6.0.0-11-sbom.json', '../../.bob/va-reports/anchore/2pp-reports/eric-pm-configmap-reload_7.1.0-22-sbom.json', '../../.bob/va-reports/anchore/2pp-reports/eric-data-document-database-pg13_7.0.0-49-sbom.json', '../../.bob/va-reports/anchore/2pp-reports/eric-cr-bragent_6.0.0-11-sbom.json', '../../.bob/va-reports/anchore/2pp-reports/eric-pm-exporter_7.1.0-22-sbom.json']\n",
      "68\n"
     ]
    }
   ],
   "source": [
    "json_files = [os.path.join(dp, f) \n",
    "            for dp, dn, filenames in os.walk(input_dir) \n",
    "                for f in filenames if f.endswith('-sbom.json')]\n",
    "print(json_files)\n",
    "no_of_files=len(json_files)\n",
    "\n",
    "if no_of_files==0:\n",
    "    raise Exception('SBOM scan reports not found.. Cannot proceed')\n",
    "\n",
    "print(no_of_files)"
   ]
  },
  {
   "cell_type": "code",
   "execution_count": 22,
   "metadata": {},
   "outputs": [
    {
     "data": {
      "text/html": [
       "<div>\n",
       "<style scoped>\n",
       "    .dataframe tbody tr th:only-of-type {\n",
       "        vertical-align: middle;\n",
       "    }\n",
       "\n",
       "    .dataframe tbody tr th {\n",
       "        vertical-align: top;\n",
       "    }\n",
       "\n",
       "    .dataframe thead th {\n",
       "        text-align: right;\n",
       "    }\n",
       "</style>\n",
       "<table border=\"1\" class=\"dataframe\">\n",
       "  <thead>\n",
       "    <tr style=\"text-align: right;\">\n",
       "      <th></th>\n",
       "      <th>image</th>\n",
       "      <th>distro.prettyName</th>\n",
       "      <th>distro.name</th>\n",
       "      <th>distro.id</th>\n",
       "      <th>distro.idLike</th>\n",
       "      <th>distro.version</th>\n",
       "      <th>distro.versionID</th>\n",
       "      <th>distro.homeURL</th>\n",
       "      <th>distro.supportURL</th>\n",
       "      <th>distro.bugReportURL</th>\n",
       "      <th>distro.privacyPolicyURL</th>\n",
       "      <th>distro.cpeName</th>\n",
       "    </tr>\n",
       "  </thead>\n",
       "  <tbody>\n",
       "    <tr>\n",
       "      <th>0</th>\n",
       "      <td>armdocker.rnd.ericsson.se/proj-mxe-ci-internal...</td>\n",
       "      <td>Ubuntu 20.04.3 LTS</td>\n",
       "      <td>Ubuntu</td>\n",
       "      <td>ubuntu</td>\n",
       "      <td>[debian]</td>\n",
       "      <td>20.04.3 LTS (Focal Fossa)</td>\n",
       "      <td>20.04</td>\n",
       "      <td>https://www.ubuntu.com/</td>\n",
       "      <td>https://help.ubuntu.com/</td>\n",
       "      <td>https://bugs.launchpad.net/ubuntu/</td>\n",
       "      <td>https://www.ubuntu.com/legal/terms-and-policie...</td>\n",
       "      <td>NaN</td>\n",
       "    </tr>\n",
       "    <tr>\n",
       "      <th>0</th>\n",
       "      <td>armdocker.rnd.ericsson.se/proj-mxe-ci-internal...</td>\n",
       "      <td>SUSE Linux Enterprise Server 15 SP3</td>\n",
       "      <td>SLES</td>\n",
       "      <td>sles</td>\n",
       "      <td>[suse]</td>\n",
       "      <td>15-SP3</td>\n",
       "      <td>15.3</td>\n",
       "      <td>NaN</td>\n",
       "      <td>NaN</td>\n",
       "      <td>NaN</td>\n",
       "      <td>NaN</td>\n",
       "      <td>cpe:/o:suse:sles:15:sp3</td>\n",
       "    </tr>\n",
       "    <tr>\n",
       "      <th>0</th>\n",
       "      <td>armdocker.rnd.ericsson.se/proj-mxe-ci-internal...</td>\n",
       "      <td>SUSE Linux Enterprise Server 15 SP3</td>\n",
       "      <td>SLES</td>\n",
       "      <td>sles</td>\n",
       "      <td>[suse]</td>\n",
       "      <td>15-SP3</td>\n",
       "      <td>15.3</td>\n",
       "      <td>NaN</td>\n",
       "      <td>NaN</td>\n",
       "      <td>NaN</td>\n",
       "      <td>NaN</td>\n",
       "      <td>cpe:/o:suse:sles:15:sp3</td>\n",
       "    </tr>\n",
       "    <tr>\n",
       "      <th>0</th>\n",
       "      <td>armdocker.rnd.ericsson.se/proj-mxe-ci-internal...</td>\n",
       "      <td>SUSE Linux Enterprise Server 15 SP3</td>\n",
       "      <td>SLES</td>\n",
       "      <td>sles</td>\n",
       "      <td>[suse]</td>\n",
       "      <td>15-SP3</td>\n",
       "      <td>15.3</td>\n",
       "      <td>NaN</td>\n",
       "      <td>NaN</td>\n",
       "      <td>NaN</td>\n",
       "      <td>NaN</td>\n",
       "      <td>cpe:/o:suse:sles:15:sp3</td>\n",
       "    </tr>\n",
       "    <tr>\n",
       "      <th>0</th>\n",
       "      <td>armdocker.rnd.ericsson.se/proj-mxe-ci-internal...</td>\n",
       "      <td>SUSE Linux Enterprise Server 15 SP3</td>\n",
       "      <td>SLES</td>\n",
       "      <td>sles</td>\n",
       "      <td>[suse]</td>\n",
       "      <td>15-SP3</td>\n",
       "      <td>15.3</td>\n",
       "      <td>NaN</td>\n",
       "      <td>NaN</td>\n",
       "      <td>NaN</td>\n",
       "      <td>NaN</td>\n",
       "      <td>cpe:/o:suse:sles:15:sp3</td>\n",
       "    </tr>\n",
       "  </tbody>\n",
       "</table>\n",
       "</div>"
      ],
      "text/plain": [
       "                                               image  \\\n",
       "0  armdocker.rnd.ericsson.se/proj-mxe-ci-internal...   \n",
       "0  armdocker.rnd.ericsson.se/proj-mxe-ci-internal...   \n",
       "0  armdocker.rnd.ericsson.se/proj-mxe-ci-internal...   \n",
       "0  armdocker.rnd.ericsson.se/proj-mxe-ci-internal...   \n",
       "0  armdocker.rnd.ericsson.se/proj-mxe-ci-internal...   \n",
       "\n",
       "                     distro.prettyName distro.name distro.id distro.idLike  \\\n",
       "0                   Ubuntu 20.04.3 LTS      Ubuntu    ubuntu      [debian]   \n",
       "0  SUSE Linux Enterprise Server 15 SP3        SLES      sles        [suse]   \n",
       "0  SUSE Linux Enterprise Server 15 SP3        SLES      sles        [suse]   \n",
       "0  SUSE Linux Enterprise Server 15 SP3        SLES      sles        [suse]   \n",
       "0  SUSE Linux Enterprise Server 15 SP3        SLES      sles        [suse]   \n",
       "\n",
       "              distro.version distro.versionID           distro.homeURL  \\\n",
       "0  20.04.3 LTS (Focal Fossa)            20.04  https://www.ubuntu.com/   \n",
       "0                     15-SP3             15.3                      NaN   \n",
       "0                     15-SP3             15.3                      NaN   \n",
       "0                     15-SP3             15.3                      NaN   \n",
       "0                     15-SP3             15.3                      NaN   \n",
       "\n",
       "          distro.supportURL                 distro.bugReportURL  \\\n",
       "0  https://help.ubuntu.com/  https://bugs.launchpad.net/ubuntu/   \n",
       "0                       NaN                                 NaN   \n",
       "0                       NaN                                 NaN   \n",
       "0                       NaN                                 NaN   \n",
       "0                       NaN                                 NaN   \n",
       "\n",
       "                             distro.privacyPolicyURL           distro.cpeName  \n",
       "0  https://www.ubuntu.com/legal/terms-and-policie...                      NaN  \n",
       "0                                                NaN  cpe:/o:suse:sles:15:sp3  \n",
       "0                                                NaN  cpe:/o:suse:sles:15:sp3  \n",
       "0                                                NaN  cpe:/o:suse:sles:15:sp3  \n",
       "0                                                NaN  cpe:/o:suse:sles:15:sp3  "
      ]
     },
     "execution_count": 22,
     "metadata": {},
     "output_type": "execute_result"
    }
   ],
   "source": [
    "def load_json(json_file):\n",
    "    with open(json_file) as jsonReport:\n",
    "        json_data= json.load(jsonReport)\n",
    "        os_info={}\n",
    "        os_info[\"image\"]= json_data[\"source\"][\"target\"][\"userInput\"]\n",
    "        os_info[\"distro\"] = json_data[\"distro\"]\n",
    "    return os_info\n",
    "\n",
    "def json_to_df(json_file):\n",
    "    os_info=load_json(json_file)\n",
    "    df=pd.json_normalize(os_info)\n",
    "    df.fillna('', inplace=True)\n",
    "    return df\n",
    "\n",
    "dfs=[json_to_df(json_file) for json_file in json_files]\n",
    "df=pd.concat(dfs)\n",
    "df.head()\n"
   ]
  },
  {
   "cell_type": "code",
   "execution_count": 23,
   "metadata": {},
   "outputs": [
    {
     "name": "stdout",
     "output_type": "stream",
     "text": [
      "<class 'pandas.core.frame.DataFrame'>\n",
      "Int64Index: 68 entries, 0 to 0\n",
      "Data columns (total 12 columns):\n",
      " #   Column                   Non-Null Count  Dtype \n",
      "---  ------                   --------------  ----- \n",
      " 0   image                    68 non-null     object\n",
      " 1   distro.prettyName        64 non-null     object\n",
      " 2   distro.name              64 non-null     object\n",
      " 3   distro.id                64 non-null     object\n",
      " 4   distro.idLike            57 non-null     object\n",
      " 5   distro.version           58 non-null     object\n",
      " 6   distro.versionID         64 non-null     object\n",
      " 7   distro.homeURL           20 non-null     object\n",
      " 8   distro.supportURL        14 non-null     object\n",
      " 9   distro.bugReportURL      20 non-null     object\n",
      " 10  distro.privacyPolicyURL  13 non-null     object\n",
      " 11  distro.cpeName           44 non-null     object\n",
      "dtypes: object(12)\n",
      "memory usage: 6.9+ KB\n"
     ]
    }
   ],
   "source": [
    "df.info()"
   ]
  },
  {
   "cell_type": "code",
   "execution_count": 24,
   "metadata": {},
   "outputs": [],
   "source": [
    "with pd.ExcelWriter(f\"{output_dir}/os_details_{runDate}.xlsx\") as excelWriter: \n",
    "    df.to_excel(excelWriter, sheet_name=\"base_os\", index=False)\n",
    "    "
   ]
  }
 ],
 "metadata": {
  "interpreter": {
   "hash": "05e2bfd586b64c7f7b419b1c53adbf901e65ed0f8c431253d523cbf09ee20565"
  },
  "kernelspec": {
   "display_name": "Python 3.7.11 ('mee-test')",
   "language": "python",
   "name": "python3"
  },
  "language_info": {
   "codemirror_mode": {
    "name": "ipython",
    "version": 3
   },
   "file_extension": ".py",
   "mimetype": "text/x-python",
   "name": "python",
   "nbconvert_exporter": "python",
   "pygments_lexer": "ipython3",
   "version": "3.8.11"
  },
  "orig_nbformat": 4
 },
 "nbformat": 4,
 "nbformat_minor": 2
}
