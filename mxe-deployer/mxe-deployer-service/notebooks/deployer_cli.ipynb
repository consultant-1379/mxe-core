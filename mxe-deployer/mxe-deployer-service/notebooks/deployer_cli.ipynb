{
 "cells": [
  {
   "cell_type": "code",
   "execution_count": 5,
   "metadata": {},
   "outputs": [],
   "source": [
    "MXE_ENDPOINT=\"https://mxe-vcluster1.kroto011.rnd.gic.ericsson.se\"\n",
    "MXE_DEPLOYER_ENDPOINT=\"https://mxe-deployer-vcluster1.kroto011.rnd.gic.ericsson.se\"\n",
    "OAUTH_ENDPOINT=\"https://oauth.mxe-vcluster1.kroto011.rnd.gic.ericsson.se\"\n",
    "ARGOCD_ENDPOINT=\"https://argocd-vcluster1.kroto011.rnd.gic.ericsson.se\"\n",
    "GITEA_ENDPOINT=\"https://gitea.mxe-vcluster1.kroto011.rnd.gic.ericsson.se\"\n",
    "INTERNAL_GITOPS_REPO=f\"{GITEA_ENDPOINT}/mxe/mxe-gitops.git\"\n",
    "ARGOCD_ADMIN_USERNAME=\"argocd-admin\"\n",
    "ARGOCD_ADMIN_PASSWORD=\"admin-pass\"\n",
    "MXE_VERSION=\"2.4.0+263\""
   ]
  },
  {
   "cell_type": "code",
   "execution_count": 2,
   "metadata": {},
   "outputs": [],
   "source": [
    "import os, json, subprocess, pathlib"
   ]
  },
  {
   "cell_type": "code",
   "execution_count": 3,
   "metadata": {},
   "outputs": [],
   "source": [
    "def run_command(command):\n",
    "    proc=subprocess.Popen(command, shell=True, stdout=subprocess.PIPE, stderr=subprocess.PIPE)\n",
    "    out, err = proc.communicate()\n",
    "    if proc.returncode == 0:\n",
    "        return out.decode(\"utf-8\")\n",
    "    else: \n",
    "        print(f\"Subprocess failed\")\n",
    "        print(f'stdout: {out.decode(\"utf-8\")}')\n",
    "        print(f'stderr: {err.decode(\"utf-8\")}')\n",
    "        raise Exception(f\"Subprocess failed with return code {proc.returncode}\")"
   ]
  },
  {
   "cell_type": "markdown",
   "metadata": {},
   "source": [
    "## Download CLI"
   ]
  },
  {
   "cell_type": "code",
   "execution_count": 8,
   "metadata": {},
   "outputs": [
    {
     "name": "stdout",
     "output_type": "stream",
     "text": [
      "Downloading mxe-cli from https://arm.seli.gic.ericsson.se/artifactory/proj-mxe-release-generic/2.4.0-263/mxe-cli-linux-2.4.0-263.tgz\n"
     ]
    }
   ],
   "source": [
    "ARM_REPO=\"https://arm.seli.gic.ericsson.se/artifactory\"\n",
    "if \"+\" in MXE_VERSION:\n",
    "    MXE_CANDIDATE_VERSION=MXE_VERSION.replace(\"+\", \"-\")\n",
    "    CLI_URL=f\"{ARM_REPO}/proj-mxe-release-generic/{MXE_CANDIDATE_VERSION}/mxe-cli-linux-{MXE_CANDIDATE_VERSION}.tgz\"\n",
    "else:\n",
    "    CLI_URL=f\" {ARM_REPO}/proj-mxe-dev-generic-local/mxe-cli-linux-{MXE_VERSION}.tgz\"\n",
    "\n",
    "print(f\"Downloading mxe-cli from {CLI_URL}\")\n",
    "\n",
    "API_TOKEN=os.environ.get(\"DOCKER_API_TOKEN\")\n",
    "\n",
    "if API_TOKEN is None:\n",
    "    raise Exception(\"ENV DOCKER_API_TOKEN not set\")\n",
    "\n",
    "CLI_DOWNLOAD_CMD=f\"curl --header 'X-JFrog-Art-Api:${API_TOKEN}' --fail {CLI_URL} --output mxe-cli-linux.tgz\"\n",
    "#        tar xvzf .bob/mxe-cli-linux-${env.STABLE_MXE_VERSION}.tgz  -C ${env.PWD}/cli/;\n",
    "#        rm -f .bob/mxe-cli-linux-${env.STABLE_MXE_VERSION}.tgz;"
   ]
  },
  {
   "cell_type": "code",
   "execution_count": 12,
   "metadata": {},
   "outputs": [
    {
     "name": "stderr",
     "output_type": "stream",
     "text": [
      "  % Total    % Received % Xferd  Average Speed   Time    Time     Time  Current\n",
      "                                 Dload  Upload   Total   Spent    Left  Speed\n",
      "100 22.6M  100 22.6M    0     0  39.3M      0 --:--:-- --:--:-- --:--:-- 39.2M\n"
     ]
    },
    {
     "name": "stdout",
     "output_type": "stream",
     "text": [
      "mxe-deploy\n",
      "mxe-model\n",
      "mxe-service\n",
      "mxe-training\n",
      "data/clusters.json\n"
     ]
    }
   ],
   "source": [
    "%%bash -s \"$CLI_URL\" \"$API_TOKEN\" \"$MXE_ENDPOINT\"\n",
    "\n",
    "CLI_URL=$1\n",
    "API_TOKEN=$2\n",
    "MXE_ENDPOINT=$3\n",
    "\n",
    "[ -d cli ] && rm -rf cli\n",
    "mkdir -p cli \n",
    "curl --header \"X-JFrog-Art-Api:${API_TOKEN}\" --fail $CLI_URL --output mxe-cli-linux.tgz\n",
    "tar xvzf mxe-cli-linux.tgz -C cli/\n",
    "rm -f mxe-cli-linux.tgz\n",
    "\n",
    "chmod +x cli/mxe-*\n",
    "\n",
    "sed -i \"s#<mxeEndpoint>#$MXE_ENDPOINT#g\" cli/data/clusters.json "
   ]
  },
  {
   "cell_type": "markdown",
   "metadata": {},
   "source": [
    "## mxe-deploy login"
   ]
  },
  {
   "cell_type": "markdown",
   "metadata": {},
   "source": [
    "## Non interactive"
   ]
  },
  {
   "cell_type": "code",
   "execution_count": 16,
   "metadata": {},
   "outputs": [
    {
     "name": "stderr",
     "output_type": "stream",
     "text": [
      "+ cli/mxe-deploy login https://mxe-deployer-vcluster1.kroto011.rnd.gic.ericsson.se --ssoMode --ssoHost https://oauth.mxe-vcluster1.kroto011.rnd.gic.ericsson.se --username argocd-admin --password admin-pass\n"
     ]
    },
    {
     "name": "stdout",
     "output_type": "stream",
     "text": [
      "Authentication successful\n"
     ]
    }
   ],
   "source": [
    "%%bash -s \"$MXE_DEPLOYER_ENDPOINT\" \"$OAUTH_ENDPOINT\" \"$ARGOCD_ADMIN_USERNAME\" \"$ARGOCD_ADMIN_PASSWORD\"\n",
    "set -x \n",
    "\n",
    "cli/mxe-deploy login $1 --ssoMode --ssoHost $2 --username $3 --password $4"
   ]
  },
  {
   "cell_type": "markdown",
   "metadata": {},
   "source": [
    "## /v1/package"
   ]
  },
  {
   "cell_type": "markdown",
   "metadata": {},
   "source": [
    "Make sure https://gitlab.internal.ericsson.com/gaia-mass/mee/deployer-example-apps.git repo is added to ARGOCD_ENDPOINT before proceeding\n",
    "\n",
    "Verify that this repo is shown in the Settings > Repository page \n",
    "\n",
    "<img src=\"Gitlab_repository.png\">"
   ]
  },
  {
   "cell_type": "markdown",
   "metadata": {},
   "source": [
    "#### Deploy Package from git"
   ]
  },
  {
   "cell_type": "code",
   "execution_count": 30,
   "metadata": {},
   "outputs": [
    {
     "name": "stdout",
     "output_type": "stream",
     "text": [
      "Running command: cli/mxe-deploy package create sample-nginx-app --repo https://gitlab.internal.ericsson.com/gaia-mass/mee/deployer-example-apps.git --path nginx-sample-yaml  --revision main --dest-namespace  mxe  --dest-server https://kubernetes.default.svc  --label issuedBy=deployer-notebook  --label partOf=mxe  --sync-policy automated --auto-prune --self-heal\n",
      "OUTPUT of Deploying app from git: Application sample-nginx-app created successfully\n"
     ]
    }
   ],
   "source": [
    "payload={\n",
    "    \"appName\": \"sample-nginx-app\",\n",
    "    \"packageSource\": {\n",
    "        \"repoURL\": \"https://gitlab.internal.ericsson.com/gaia-mass/mee/deployer-example-apps.git\",\n",
    "        \"path\": \"nginx-sample-yaml\",\n",
    "        \"targetRevision\": \"main\"\n",
    "    },\n",
    "    \"packageDestination\": {\n",
    "        \"server\" : \"https://kubernetes.default.svc\",\n",
    "        \"namespace\": \"mxe\"\n",
    "    },\n",
    "    \"labels\": [ \"issuedBy=deployer-notebook\", \"partOf=mxe\"],\n",
    "    \"syncPolicy\":{\n",
    "        \"automated\":{\n",
    "            \"prune\": False,\n",
    "            \"selfHeal\": False,\n",
    "            \"allowEmpty\" : False\n",
    "        }\n",
    "    }\n",
    "}\n",
    "\n",
    "labelsStr = \"\".join([ f\" --label {label} \" for label in payload[\"labels\"] ])\n",
    "\n",
    "syncPolicy = \"\"\n",
    "if \"syncPolicy\" in payload:\n",
    "    if \"automated\" in payload[\"syncPolicy\"]:\n",
    "        syncPolicy = f\" --sync-policy automated \"\n",
    "        if \"prune\" in payload[\"syncPolicy\"][\"automated\"] and payload[\"syncPolicy\"][\"automated\"][\"prune\"]:\n",
    "            syncPolicy += f\" --auto-prune \"\n",
    "            if \"selfHeal\" in payload[\"syncPolicy\"][\"automated\"] and payload[\"syncPolicy\"][\"automated\"][\"selfHeal\"]:\n",
    "                syncPolicy += f\" --self-heal  \"\n",
    "                if \"allowEmpty\" in payload[\"syncPolicy\"][\"automated\"] and payload[\"syncPolicy\"][\"automated\"][\"allowEmpty\"]:\n",
    "                    syncPolicy += f\" --allow-empty \"\n",
    "\n",
    "COMMAND=f\"\"\"cli/mxe-deploy package create {payload['appName']} --repo {payload['packageSource']['repoURL']} --path {payload['packageSource']['path']} \n",
    "--revision {payload['packageSource']['targetRevision']} --dest-namespace  {payload['packageDestination']['namespace']} \n",
    "--dest-server {payload['packageDestination']['server']} {labelsStr} --sync-policy automated --auto-prune --self-heal\"\"\".replace(\"\\n\", \" \")\n",
    "\n",
    "print(f\"Running command: {COMMAND}\")\n",
    "\n",
    "\n",
    "output=run_command(COMMAND)\n",
    "\n",
    "print(f\"OUTPUT of Deploying app from git: {output}\")\n"
   ]
  },
  {
   "cell_type": "markdown",
   "metadata": {},
   "source": [
    "### Verification\n",
    "\n",
    "Check ArgoCD applications page, open sample-nginx-app application; it should show synced/healthy\n",
    "\n",
    "<img src=\"Successful_deployment_from_git.png\" width=\"800\">"
   ]
  },
  {
   "cell_type": "markdown",
   "metadata": {},
   "source": [
    "#### Verification from k8s"
   ]
  },
  {
   "cell_type": "code",
   "execution_count": 31,
   "metadata": {},
   "outputs": [
    {
     "name": "stdout",
     "output_type": "stream",
     "text": [
      "NAME               SYNC STATUS   HEALTH STATUS\n",
      "sample-nginx-app   Synced        Healthy\n",
      "NAME          READY   UP-TO-DATE   AVAILABLE   AGE\n",
      "nginx-app-1   3/3     3            3           3h51m\n"
     ]
    }
   ],
   "source": [
    "%%bash \n",
    "\n",
    "kubectl get application sample-nginx-app -n mxe\n",
    "kubectl get deployment -l argocd.argoproj.io/instance=sample-nginx-app -n mxe"
   ]
  },
  {
   "cell_type": "markdown",
   "metadata": {},
   "source": [
    "## Deploy Tar file from local fs\n",
    "\n",
    "Make tar files using sample helm chart helm-examples"
   ]
  },
  {
   "cell_type": "code",
   "execution_count": 32,
   "metadata": {},
   "outputs": [
    {
     "name": "stderr",
     "output_type": "stream",
     "text": [
      "Cloning into 'helm-examples'...\n"
     ]
    },
    {
     "name": "stdout",
     "output_type": "stream",
     "text": [
      "./\n",
      "./values.yaml\n",
      "./README.md\n",
      "./Chart.yaml\n",
      "./templates/\n",
      "./templates/serviceaccount.yaml\n",
      "./templates/deployment.yaml\n",
      "./templates/_helpers.tpl\n",
      "./templates/NOTES.txt\n",
      "./templates/service.yaml\n",
      "./.helmignore\n",
      "./\n",
      "./values.yaml\n",
      "./README.md\n",
      "./Chart.yaml\n",
      "./templates/\n",
      "./templates/serviceaccount.yaml\n",
      "./templates/deployment.yaml\n",
      "./templates/_helpers.tpl\n",
      "./templates/NOTES.txt\n",
      "./templates/service.yaml\n",
      "./.helmignore\n",
      "  adding: values.yaml (deflated 42%)\n",
      "  adding: README.md (stored 0%)\n",
      "  adding: Chart.yaml (deflated 55%)\n",
      "  adding: templates/ (stored 0%)\n",
      "  adding: templates/serviceaccount.yaml (deflated 48%)\n",
      "  adding: templates/deployment.yaml (deflated 64%)\n",
      "  adding: templates/_helpers.tpl (deflated 69%)\n",
      "  adding: templates/NOTES.txt (deflated 61%)\n",
      "  adding: templates/service.yaml (deflated 50%)\n",
      "  adding: .helmignore (deflated 33%)\n",
      "/mnt/disk0/enxxram/home/enxxram/workspace/mee/2.4/mxe-core-latest/mxe-deployer/mxe-deployer-service/notebooks\n",
      "helm-examples.tar.gz\n",
      "helm-examples.tgz\n",
      "helm-examples.zip\n"
     ]
    }
   ],
   "source": [
    "%%bash \n",
    "\n",
    "[[ -d helm-examples ]] && rm -rf helm-examples\n",
    "git clone https://github.com/helm/examples.git helm-examples\n",
    "sed -i 's#repository: nginx#repository: armdockerhub.rnd.ericsson.se/nginx#g' helm-examples/charts/hello-world/values.yaml\n",
    "tar -czvf helm-examples.tar.gz -C helm-examples/charts/hello-world .\n",
    "# Change Chartname for tgz\n",
    "sed -i 's#name: hello-world#name: hello-world-2#g' helm-examples/charts/hello-world/Chart.yaml\n",
    "tar -czvf helm-examples.tgz -C helm-examples/charts/hello-world .\n",
    "\n",
    "# Change Chartname for zip\n",
    "sed -i 's#name: hello-world-2#name: hello-world-3#g' helm-examples/charts/hello-world/Chart.yaml\n",
    "cd helm-examples/charts/hello-world/ && zip -r $OLDPWD/helm-examples.zip . && cd -\n",
    "\n",
    "rm -rf archives && mkdir -p archives\n",
    "mv helm-examples.tar.gz helm-examples.tgz helm-examples.zip archives/\n",
    "\n",
    "ls archives/"
   ]
  },
  {
   "cell_type": "markdown",
   "metadata": {},
   "source": [
    "### Deploy tar file"
   ]
  },
  {
   "cell_type": "code",
   "execution_count": 43,
   "metadata": {},
   "outputs": [
    {
     "name": "stdout",
     "output_type": "stream",
     "text": [
      "\n",
      "\n",
      "Deploy tar.gz archive CLI command: cli/mxe-deploy package create sample-hello-world-app1 --repo https://gitea.mxe-vcluster1.kroto011.rnd.gic.ericsson.se/mxe/mxe-gitops.git  --path sample_apps/app1/ --revision master  --dest-namespace  mxe --dest-server https://kubernetes.default.svc  --manifest-archive /mnt/disk0/enxxram/home/enxxram/workspace/mee/2.4/mxe-core-latest/mxe-deployer/mxe-deployer-service/notebooks/archives/helm-examples.tar.gz  --label issuedBy=deployer-notebook  --label partOf=mxe   --sync-policy automated  --sync-option CreateNamespace=false\n",
      "\n",
      "\n",
      "Deploy tar.gz archive Output: Application sample-hello-world-app1 created successfully\n"
     ]
    }
   ],
   "source": [
    "payload={\n",
    "    \"appName\": \"sample-hello-world-app1\",\n",
    "    \"packageSource\": {\n",
    "        \"repoURL\": INTERNAL_GITOPS_REPO,\n",
    "        \"path\": \"sample_apps/app1/\",\n",
    "        \"targetRevision\": \"master\"\n",
    "    },\n",
    "    \"packageDestination\": {\n",
    "        \"server\" : \"https://kubernetes.default.svc\",\n",
    "        \"namespace\": \"mxe\"\n",
    "    },\n",
    "    \"labels\": [ \"issuedBy=deployer-notebook\"],\n",
    "    \"syncPolicy\":{\n",
    "        \"automated\":{\n",
    "            \"prune\": False,\n",
    "            \"selfHeal\": False,\n",
    "            \"allowEmpty\" : False\n",
    "        }\n",
    "    },\n",
    "    \"syncOptions\":[\"CreateNamespace=false\"]\n",
    "}\n",
    "\n",
    "ARCHIVE_PATH=pathlib.Path(\"archives/helm-examples.tar.gz\").absolute()\n",
    "\n",
    "syncPolicy = \"\"\n",
    "if \"syncPolicy\" in payload:\n",
    "    if \"automated\" in payload[\"syncPolicy\"]:\n",
    "        syncPolicy = f\" --sync-policy automated \"\n",
    "        if \"prune\" in payload[\"syncPolicy\"][\"automated\"] and payload[\"syncPolicy\"][\"automated\"][\"prune\"]:\n",
    "            syncPolicy += f\" --auto-prune \"\n",
    "            if \"selfHeal\" in payload[\"syncPolicy\"][\"automated\"] and payload[\"syncPolicy\"][\"automated\"][\"selfHeal\"]:\n",
    "                syncPolicy += f\" --self-heal  \"\n",
    "                if \"allowEmpty\" in payload[\"syncPolicy\"][\"automated\"] and payload[\"syncPolicy\"][\"automated\"][\"allowEmpty\"]:\n",
    "                    syncPolicy += f\" --allow-empty \"\n",
    "\n",
    "syncOptions = \"\"\n",
    "if \"syncOptions\" in payload:\n",
    "    syncOptions = \" \".join([f\"--sync-option {option}\" for option in payload[\"syncOptions\"]])\n",
    "\n",
    "COMMAND=f\"\"\"cli/mxe-deploy package create {payload['appName']} --repo {payload['packageSource']['repoURL']} \n",
    "--path {payload['packageSource']['path']} --revision {payload['packageSource']['targetRevision']} \n",
    "--dest-namespace  {payload['packageDestination']['namespace']} --dest-server {payload['packageDestination']['server']} \n",
    "--manifest-archive {ARCHIVE_PATH} {labelsStr} {syncPolicy} {syncOptions}\"\"\".replace(\"\\n\", \" \")\n",
    "\n",
    "print(f\"\\n\\nDeploy tar.gz archive CLI command: {COMMAND}\")\n",
    "\n",
    "output=run_command(COMMAND)\n",
    "\n",
    "print(f\"\\n\\nDeploy tar.gz archive Output: {output}\", flush=True)"
   ]
  },
  {
   "cell_type": "markdown",
   "metadata": {},
   "source": [
    "### Patch app"
   ]
  },
  {
   "cell_type": "code",
   "execution_count": 44,
   "metadata": {},
   "outputs": [
    {
     "name": "stdout",
     "output_type": "stream",
     "text": [
      "\n",
      "\\Patch app using archive Curl command: cli/mxe-deploy package patch sample-hello-world-app1 --manifest-archive /mnt/disk0/enxxram/home/enxxram/workspace/mee/2.4/mxe-core-latest/mxe-deployer/mxe-deployer-service/notebooks/archives/helm-examples.tgz\n",
      "\n",
      "\n",
      "Patch app using archive Output: Application sample-hello-world-app1 patched successfully\n"
     ]
    }
   ],
   "source": [
    "\n",
    "payload={\n",
    "    \"name\": \"sample-hello-world-app1\",\n",
    "}\n",
    "\n",
    "ARCHIVE_PATH=pathlib.Path(\"archives/helm-examples.tgz\").absolute()\n",
    "\n",
    "COMMAND=f\"cli/mxe-deploy package patch {payload['name']} --manifest-archive {ARCHIVE_PATH}\"\n",
    "\n",
    "print(f\"\\n\\Patch app using archive Curl command: {COMMAND}\")\n",
    "\n",
    "output=run_command(COMMAND)\n",
    "\n",
    "print(f\"\\n\\nPatch app using archive Output: {output}\", flush=True)"
   ]
  },
  {
   "cell_type": "markdown",
   "metadata": {},
   "source": [
    "_*Verification*_ : Check that `chartName` got updated in `Chart.yaml` gitea repo `sample_apps/app1` dir"
   ]
  },
  {
   "cell_type": "markdown",
   "metadata": {},
   "source": [
    "### Delete app"
   ]
  },
  {
   "cell_type": "code",
   "execution_count": 41,
   "metadata": {},
   "outputs": [],
   "source": [
    "def del_app(app_to_delete):\n",
    "    COMMAND=f'echo y | cli/mxe-deploy package delete {app_to_delete} -p background'\n",
    "\n",
    "    print(f\"\\n\\nDelete app command: {COMMAND}\")\n",
    "\n",
    "    output=run_command(COMMAND)\n",
    "    print(f\"\\n\\nDelete app Output: {output}\")"
   ]
  },
  {
   "cell_type": "code",
   "execution_count": 45,
   "metadata": {},
   "outputs": [
    {
     "name": "stdout",
     "output_type": "stream",
     "text": [
      "\n",
      "\n",
      "Delete app command: echo y | cli/mxe-deploy package delete sample-hello-world-app1 -p background\n",
      "\n",
      "\n",
      "Delete app Output: Do you really want to delete sample-hello-world-app1 from server https://mxe-deployer-vcluster1.kroto011.rnd.gic.ericsson.se [Enter y/n]: \n",
      " Successfully deleted sample-hello-world-app1\n"
     ]
    }
   ],
   "source": [
    "del_app(app_to_delete=\"sample-hello-world-app1\")"
   ]
  },
  {
   "cell_type": "markdown",
   "metadata": {},
   "source": [
    "## Deploy zip archive"
   ]
  },
  {
   "cell_type": "code",
   "execution_count": 46,
   "metadata": {},
   "outputs": [
    {
     "name": "stdout",
     "output_type": "stream",
     "text": [
      "\n",
      "\n",
      "Deploy zip archive CLI command: cli/mxe-deploy package create sample-hello-world-app2 --repo https://gitea.mxe-vcluster1.kroto011.rnd.gic.ericsson.se/mxe/mxe-gitops.git  --path sample_apps/app2/ --revision master  --dest-namespace  mxe --dest-server https://kubernetes.default.svc  --manifest-archive /mnt/disk0/enxxram/home/enxxram/workspace/mee/2.4/mxe-core-latest/mxe-deployer/mxe-deployer-service/notebooks/archives/helm-examples.zip  --label issuedBy=deployer-notebook  --label partOf=mxe   --sync-policy automated  --sync-option CreateNamespace=false\n",
      "\n",
      "\n",
      "Deploy zip archive Output: Application sample-hello-world-app2 created successfully\n"
     ]
    }
   ],
   "source": [
    "payload={\n",
    "    \"appName\": \"sample-hello-world-app2\",\n",
    "    \"packageSource\": {\n",
    "        \"repoURL\": INTERNAL_GITOPS_REPO,\n",
    "        \"path\": \"sample_apps/app2/\",\n",
    "        \"targetRevision\": \"master\"\n",
    "    },\n",
    "    \"packageDestination\": {\n",
    "        \"server\" : \"https://kubernetes.default.svc\",\n",
    "        \"namespace\": \"mxe\"\n",
    "    },\n",
    "    \"labels\": [ \"issuedBy=deployer-notebook\"],\n",
    "    \"syncPolicy\":{\n",
    "        \"automated\":{\n",
    "            \"prune\": False,\n",
    "            \"selfHeal\": False,\n",
    "            \"allowEmpty\" : False\n",
    "        }\n",
    "    },\n",
    "    \"syncOptions\":[\"CreateNamespace=false\"]\n",
    "}\n",
    "\n",
    "ARCHIVE_PATH=pathlib.Path(\"archives/helm-examples.zip\").absolute()\n",
    "\n",
    "syncPolicy = \"\"\n",
    "if \"syncPolicy\" in payload:\n",
    "    if \"automated\" in payload[\"syncPolicy\"]:\n",
    "        syncPolicy = f\" --sync-policy automated \"\n",
    "        if \"prune\" in payload[\"syncPolicy\"][\"automated\"] and payload[\"syncPolicy\"][\"automated\"][\"prune\"]:\n",
    "            syncPolicy += f\" --auto-prune \"\n",
    "            if \"selfHeal\" in payload[\"syncPolicy\"][\"automated\"] and payload[\"syncPolicy\"][\"automated\"][\"selfHeal\"]:\n",
    "                syncPolicy += f\" --self-heal  \"\n",
    "                if \"allowEmpty\" in payload[\"syncPolicy\"][\"automated\"] and payload[\"syncPolicy\"][\"automated\"][\"allowEmpty\"]:\n",
    "                    syncPolicy += f\" --allow-empty \"\n",
    "\n",
    "syncOptions = \"\"\n",
    "if \"syncOptions\" in payload:\n",
    "    syncOptions = \" \".join([f\"--sync-option {option}\" for option in payload[\"syncOptions\"]])\n",
    "\n",
    "COMMAND=f\"\"\"cli/mxe-deploy package create {payload['appName']} --repo {payload['packageSource']['repoURL']} \n",
    "--path {payload['packageSource']['path']} --revision {payload['packageSource']['targetRevision']} \n",
    "--dest-namespace  {payload['packageDestination']['namespace']} --dest-server {payload['packageDestination']['server']} \n",
    "--manifest-archive {ARCHIVE_PATH} {labelsStr} {syncPolicy} {syncOptions}\"\"\".replace(\"\\n\", \" \")\n",
    "\n",
    "print(f\"\\n\\nDeploy zip archive CLI command: {COMMAND}\")\n",
    "\n",
    "output=run_command(COMMAND)\n",
    "\n",
    "print(f\"\\n\\nDeploy zip archive Output: {output}\", flush=True)"
   ]
  },
  {
   "cell_type": "markdown",
   "metadata": {},
   "source": [
    "### Get Applications"
   ]
  },
  {
   "cell_type": "markdown",
   "metadata": {},
   "source": [
    "#### Get app Names alone"
   ]
  },
  {
   "cell_type": "code",
   "execution_count": 50,
   "metadata": {},
   "outputs": [
    {
     "name": "stdout",
     "output_type": "stream",
     "text": [
      "Deployed Apps:\n",
      "sample-hello-world-app2\n",
      "sample-nginx-app\n",
      "\n"
     ]
    }
   ],
   "source": [
    "\n",
    "COMMAND=\"cli/mxe-deploy package list -o name\" \n",
    "\n",
    "OUTPUT=run_command(COMMAND)\n",
    "\n",
    "print(f\"Deployed Apps:\\n{OUTPUT}\", flush=True)\n"
   ]
  },
  {
   "cell_type": "markdown",
   "metadata": {},
   "source": [
    "#### Get all apps as json"
   ]
  },
  {
   "cell_type": "code",
   "execution_count": 51,
   "metadata": {},
   "outputs": [
    {
     "name": "stdout",
     "output_type": "stream",
     "text": [
      "Deployed Apps:\n",
      "[\n",
      "  {\n",
      "    \"metadata\": {\n",
      "      \"name\": \"sample-hello-world-app2\",\n",
      "      \"namespace\": \"mxe\",\n",
      "      \"uid\": \"3cd5b8c2-4c43-447b-af93-dcfdaed8d38e\",\n",
      "      \"resourceVersion\": \"7073556\",\n",
      "      \"generation\": 12,\n",
      "      \"creationTimestamp\": \"2022-09-12T11:12:48Z\",\n",
      "      \"labels\": {\n",
      "        \"issuedBy\": \"deployer-notebook\",\n",
      "        \"managedBy\": \"eric-mxe-deployer-service\",\n",
      "        \"partOf\": \"mxe\"\n",
      "      },\n",
      "      \"annotations\": {\n",
      "        \"argocd.argoproj.io/manifest-generate-paths\": \"/sample_apps/app2/\"\n",
      "      },\n",
      "      \"managedFields\": [\n",
      "        {\n",
      "          \"manager\": \"Go-http-client\",\n",
      "          \"operation\": \"Update\",\n",
      "          \"apiVersion\": \"argoproj.io/v1alpha1\",\n",
      "          \"time\": \"2022-09-12T11:12:49Z\",\n",
      "          \"fieldsType\": \"FieldsV1\",\n",
      "          \"fieldsV1\": {\n",
      "            \"f:metadata\": {\n",
      "              \"f:annotations\": {\n",
      "                \".\": {},\n",
      "                \"f:argocd.argoproj.io/manifest-generate-paths\": {}\n",
      "              },\n",
      "              \"f:labels\": {\n",
      "                \".\": {},\n",
      "                \"f:issuedBy\": {},\n",
      "                \"f:managedBy\": {},\n",
      "                \"f:partOf\": {}\n",
      "              }\n",
      "            },\n",
      "            \"f:spec\": {\n",
      "              \".\": {},\n",
      "              \"f:destination\": {\n",
      "                \".\": {},\n",
      "                \"f:namespace\": {},\n",
      "                \"f:server\": {}\n",
      "              },\n",
      "              \"f:project\": {},\n",
      "              \"f:source\": {\n",
      "                \".\": {},\n",
      "                \"f:path\": {},\n",
      "                \"f:repoURL\": {},\n",
      "                \"f:targetRevision\": {}\n",
      "              },\n",
      "              \"f:syncPolicy\": {\n",
      "                \".\": {},\n",
      "                \"f:automated\": {},\n",
      "                \"f:syncOptions\": {}\n",
      "              }\n",
      "            },\n",
      "            \"f:status\": {\n",
      "              \".\": {},\n",
      "              \"f:health\": {\n",
      "                \".\": {},\n",
      "                \"f:status\": {}\n",
      "              },\n",
      "              \"f:history\": {},\n",
      "              \"f:operationState\": {\n",
      "                \".\": {},\n",
      "                \"f:finishedAt\": {},\n",
      "                \"f:message\": {},\n",
      "                \"f:operation\": {\n",
      "                  \".\": {},\n",
      "                  \"f:initiatedBy\": {\n",
      "                    \".\": {},\n",
      "                    \"f:automated\": {}\n",
      "                  },\n",
      "                  \"f:retry\": {\n",
      "                    \".\": {},\n",
      "                    \"f:limit\": {}\n",
      "                  },\n",
      "                  \"f:sync\": {\n",
      "                    \".\": {},\n",
      "                    \"f:revision\": {},\n",
      "                    \"f:syncOptions\": {}\n",
      "                  }\n",
      "                },\n",
      "                \"f:phase\": {},\n",
      "                \"f:startedAt\": {},\n",
      "                \"f:syncResult\": {\n",
      "                  \".\": {},\n",
      "                  \"f:resources\": {},\n",
      "                  \"f:revision\": {},\n",
      "                  \"f:source\": {\n",
      "                    \".\": {},\n",
      "                    \"f:path\": {},\n",
      "                    \"f:repoURL\": {},\n",
      "                    \"f:targetRevision\": {}\n",
      "                  }\n",
      "                }\n",
      "              },\n",
      "              \"f:reconciledAt\": {},\n",
      "              \"f:resources\": {},\n",
      "              \"f:sourceType\": {},\n",
      "              \"f:summary\": {\n",
      "                \".\": {},\n",
      "                \"f:images\": {}\n",
      "              },\n",
      "              \"f:sync\": {\n",
      "                \".\": {},\n",
      "                \"f:comparedTo\": {\n",
      "                  \".\": {},\n",
      "                  \"f:destination\": {\n",
      "                    \".\": {},\n",
      "                    \"f:namespace\": {},\n",
      "                    \"f:server\": {}\n",
      "                  },\n",
      "                  \"f:source\": {\n",
      "                    \".\": {},\n",
      "                    \"f:path\": {},\n",
      "                    \"f:repoURL\": {},\n",
      "                    \"f:targetRevision\": {}\n",
      "                  }\n",
      "                },\n",
      "                \"f:revision\": {},\n",
      "                \"f:status\": {}\n",
      "              }\n",
      "            }\n",
      "          }\n",
      "        }\n",
      "      ]\n",
      "    },\n",
      "    \"spec\": {\n",
      "      \"source\": {\n",
      "        \"repoURL\": \"https://gitea.mxe-vcluster1.kroto011.rnd.gic.ericsson.se/mxe/mxe-gitops.git\",\n",
      "        \"path\": \"sample_apps/app2/\",\n",
      "        \"targetRevision\": \"master\"\n",
      "      },\n",
      "      \"destination\": {\n",
      "        \"server\": \"https://kubernetes.default.svc\",\n",
      "        \"namespace\": \"mxe\"\n",
      "      },\n",
      "      \"project\": \"default\",\n",
      "      \"syncPolicy\": {\n",
      "        \"automated\": {},\n",
      "        \"syncOptions\": [\n",
      "          \"CreateNamespace=false\"\n",
      "        ]\n",
      "      }\n",
      "    },\n",
      "    \"status\": {\n",
      "      \"resources\": [\n",
      "        {\n",
      "          \"version\": \"v1\",\n",
      "          \"kind\": \"Service\",\n",
      "          \"namespace\": \"mxe\",\n",
      "          \"name\": \"sample-hello-world-app2-hello-world-3\",\n",
      "          \"status\": \"Synced\",\n",
      "          \"health\": {\n",
      "            \"status\": \"Healthy\"\n",
      "          }\n",
      "        },\n",
      "        {\n",
      "          \"version\": \"v1\",\n",
      "          \"kind\": \"ServiceAccount\",\n",
      "          \"namespace\": \"mxe\",\n",
      "          \"name\": \"sample-hello-world-app2-hello-world-3\",\n",
      "          \"status\": \"Synced\"\n",
      "        },\n",
      "        {\n",
      "          \"group\": \"apps\",\n",
      "          \"version\": \"v1\",\n",
      "          \"kind\": \"Deployment\",\n",
      "          \"namespace\": \"mxe\",\n",
      "          \"name\": \"sample-hello-world-app2-hello-world-3\",\n",
      "          \"status\": \"Synced\",\n",
      "          \"health\": {\n",
      "            \"status\": \"Healthy\"\n",
      "          }\n",
      "        }\n",
      "      ],\n",
      "      \"sync\": {\n",
      "        \"status\": \"Synced\",\n",
      "        \"comparedTo\": {\n",
      "          \"source\": {\n",
      "            \"repoURL\": \"https://gitea.mxe-vcluster1.kroto011.rnd.gic.ericsson.se/mxe/mxe-gitops.git\",\n",
      "            \"path\": \"sample_apps/app2/\",\n",
      "            \"targetRevision\": \"master\"\n",
      "          },\n",
      "          \"destination\": {\n",
      "            \"server\": \"https://kubernetes.default.svc\",\n",
      "            \"namespace\": \"mxe\"\n",
      "          }\n",
      "        },\n",
      "        \"revision\": \"945c7f6ab39a15f7fea03224960e9349af46cd51\"\n",
      "      },\n",
      "      \"health\": {\n",
      "        \"status\": \"Healthy\"\n",
      "      },\n",
      "      \"history\": [\n",
      "        {\n",
      "          \"revision\": \"945c7f6ab39a15f7fea03224960e9349af46cd51\",\n",
      "          \"deployedAt\": \"2022-09-12T11:12:49Z\",\n",
      "          \"id\": 0,\n",
      "          \"source\": {\n",
      "            \"repoURL\": \"https://gitea.mxe-vcluster1.kroto011.rnd.gic.ericsson.se/mxe/mxe-gitops.git\",\n",
      "            \"path\": \"sample_apps/app2/\",\n",
      "            \"targetRevision\": \"master\"\n",
      "          },\n",
      "          \"deployStartedAt\": \"2022-09-12T11:12:49Z\"\n",
      "        }\n",
      "      ],\n",
      "      \"reconciledAt\": \"2022-09-12T11:12:49Z\",\n",
      "      \"operationState\": {\n",
      "        \"operation\": {\n",
      "          \"sync\": {\n",
      "            \"revision\": \"945c7f6ab39a15f7fea03224960e9349af46cd51\",\n",
      "            \"syncOptions\": [\n",
      "              \"CreateNamespace=false\"\n",
      "            ]\n",
      "          },\n",
      "          \"initiatedBy\": {\n",
      "            \"automated\": true\n",
      "          },\n",
      "          \"retry\": {\n",
      "            \"limit\": 5\n",
      "          }\n",
      "        },\n",
      "        \"phase\": \"Succeeded\",\n",
      "        \"message\": \"successfully synced (all tasks run)\",\n",
      "        \"syncResult\": {\n",
      "          \"resources\": [\n",
      "            {\n",
      "              \"group\": \"\",\n",
      "              \"version\": \"v1\",\n",
      "              \"kind\": \"ServiceAccount\",\n",
      "              \"namespace\": \"mxe\",\n",
      "              \"name\": \"sample-hello-world-app2-hello-world-3\",\n",
      "              \"status\": \"Synced\",\n",
      "              \"message\": \"serviceaccount/sample-hello-world-app2-hello-world-3 created\",\n",
      "              \"hookPhase\": \"Running\",\n",
      "              \"syncPhase\": \"Sync\"\n",
      "            },\n",
      "            {\n",
      "              \"group\": \"\",\n",
      "              \"version\": \"v1\",\n",
      "              \"kind\": \"Service\",\n",
      "              \"namespace\": \"mxe\",\n",
      "              \"name\": \"sample-hello-world-app2-hello-world-3\",\n",
      "              \"status\": \"Synced\",\n",
      "              \"message\": \"service/sample-hello-world-app2-hello-world-3 created\",\n",
      "              \"hookPhase\": \"Running\",\n",
      "              \"syncPhase\": \"Sync\"\n",
      "            },\n",
      "            {\n",
      "              \"group\": \"apps\",\n",
      "              \"version\": \"v1\",\n",
      "              \"kind\": \"Deployment\",\n",
      "              \"namespace\": \"mxe\",\n",
      "              \"name\": \"sample-hello-world-app2-hello-world-3\",\n",
      "              \"status\": \"Synced\",\n",
      "              \"message\": \"deployment.apps/sample-hello-world-app2-hello-world-3 created\",\n",
      "              \"hookPhase\": \"Running\",\n",
      "              \"syncPhase\": \"Sync\"\n",
      "            }\n",
      "          ],\n",
      "          \"revision\": \"945c7f6ab39a15f7fea03224960e9349af46cd51\",\n",
      "          \"source\": {\n",
      "            \"repoURL\": \"https://gitea.mxe-vcluster1.kroto011.rnd.gic.ericsson.se/mxe/mxe-gitops.git\",\n",
      "            \"path\": \"sample_apps/app2/\",\n",
      "            \"targetRevision\": \"master\"\n",
      "          }\n",
      "        },\n",
      "        \"startedAt\": \"2022-09-12T11:12:49Z\",\n",
      "        \"finishedAt\": \"2022-09-12T11:12:49Z\"\n",
      "      },\n",
      "      \"sourceType\": \"Helm\",\n",
      "      \"summary\": {\n",
      "        \"images\": [\n",
      "          \"armdockerhub.rnd.ericsson.se/nginx:1.16.0\"\n",
      "        ]\n",
      "      }\n",
      "    }\n",
      "  },\n",
      "  {\n",
      "    \"metadata\": {\n",
      "      \"name\": \"sample-nginx-app\",\n",
      "      \"namespace\": \"mxe\",\n",
      "      \"uid\": \"dbf438bb-0172-44b0-99ae-041089c33d1d\",\n",
      "      \"resourceVersion\": \"7073596\",\n",
      "      \"generation\": 7,\n",
      "      \"creationTimestamp\": \"2022-09-12T10:56:57Z\",\n",
      "      \"labels\": {\n",
      "        \"issuedBy\": \"deployer-notebook\",\n",
      "        \"managedBy\": \"eric-mxe-deployer-service\",\n",
      "        \"partOf\": \"mxe\"\n",
      "      },\n",
      "      \"annotations\": {\n",
      "        \"argocd.argoproj.io/manifest-generate-paths\": \"/nginx-sample-yaml\"\n",
      "      },\n",
      "      \"managedFields\": [\n",
      "        {\n",
      "          \"manager\": \"Go-http-client\",\n",
      "          \"operation\": \"Update\",\n",
      "          \"apiVersion\": \"argoproj.io/v1alpha1\",\n",
      "          \"time\": \"2022-09-12T10:56:57Z\",\n",
      "          \"fieldsType\": \"FieldsV1\",\n",
      "          \"fieldsV1\": {\n",
      "            \"f:metadata\": {\n",
      "              \"f:annotations\": {\n",
      "                \".\": {},\n",
      "                \"f:argocd.argoproj.io/manifest-generate-paths\": {}\n",
      "              },\n",
      "              \"f:labels\": {\n",
      "                \".\": {},\n",
      "                \"f:issuedBy\": {},\n",
      "                \"f:managedBy\": {},\n",
      "                \"f:partOf\": {}\n",
      "              }\n",
      "            },\n",
      "            \"f:spec\": {\n",
      "              \".\": {},\n",
      "              \"f:destination\": {\n",
      "                \".\": {},\n",
      "                \"f:namespace\": {},\n",
      "                \"f:server\": {}\n",
      "              },\n",
      "              \"f:project\": {},\n",
      "              \"f:source\": {\n",
      "                \".\": {},\n",
      "                \"f:path\": {},\n",
      "                \"f:repoURL\": {},\n",
      "                \"f:targetRevision\": {}\n",
      "              },\n",
      "              \"f:syncPolicy\": {\n",
      "                \".\": {},\n",
      "                \"f:automated\": {\n",
      "                  \".\": {},\n",
      "                  \"f:prune\": {},\n",
      "                  \"f:selfHeal\": {}\n",
      "                }\n",
      "              }\n",
      "            },\n",
      "            \"f:status\": {\n",
      "              \".\": {},\n",
      "              \"f:health\": {\n",
      "                \".\": {},\n",
      "                \"f:status\": {}\n",
      "              },\n",
      "              \"f:reconciledAt\": {},\n",
      "              \"f:resources\": {},\n",
      "              \"f:sourceType\": {},\n",
      "              \"f:summary\": {\n",
      "                \".\": {},\n",
      "                \"f:images\": {}\n",
      "              },\n",
      "              \"f:sync\": {\n",
      "                \".\": {},\n",
      "                \"f:comparedTo\": {\n",
      "                  \".\": {},\n",
      "                  \"f:destination\": {\n",
      "                    \".\": {},\n",
      "                    \"f:namespace\": {},\n",
      "                    \"f:server\": {}\n",
      "                  },\n",
      "                  \"f:source\": {\n",
      "                    \".\": {},\n",
      "                    \"f:path\": {},\n",
      "                    \"f:repoURL\": {},\n",
      "                    \"f:targetRevision\": {}\n",
      "                  }\n",
      "                },\n",
      "                \"f:revision\": {},\n",
      "                \"f:status\": {}\n",
      "              }\n",
      "            }\n",
      "          }\n",
      "        }\n",
      "      ]\n",
      "    },\n",
      "    \"spec\": {\n",
      "      \"source\": {\n",
      "        \"repoURL\": \"https://gitlab.internal.ericsson.com/gaia-mass/mee/deployer-example-apps.git\",\n",
      "        \"path\": \"nginx-sample-yaml\",\n",
      "        \"targetRevision\": \"main\"\n",
      "      },\n",
      "      \"destination\": {\n",
      "        \"server\": \"https://kubernetes.default.svc\",\n",
      "        \"namespace\": \"mxe\"\n",
      "      },\n",
      "      \"project\": \"default\",\n",
      "      \"syncPolicy\": {\n",
      "        \"automated\": {\n",
      "          \"prune\": true,\n",
      "          \"selfHeal\": true\n",
      "        }\n",
      "      }\n",
      "    },\n",
      "    \"status\": {\n",
      "      \"resources\": [\n",
      "        {\n",
      "          \"group\": \"apps\",\n",
      "          \"version\": \"v1\",\n",
      "          \"kind\": \"Deployment\",\n",
      "          \"namespace\": \"mxe\",\n",
      "          \"name\": \"nginx-app-1\",\n",
      "          \"status\": \"Synced\",\n",
      "          \"health\": {\n",
      "            \"status\": \"Healthy\"\n",
      "          }\n",
      "        }\n",
      "      ],\n",
      "      \"sync\": {\n",
      "        \"status\": \"Synced\",\n",
      "        \"comparedTo\": {\n",
      "          \"source\": {\n",
      "            \"repoURL\": \"https://gitlab.internal.ericsson.com/gaia-mass/mee/deployer-example-apps.git\",\n",
      "            \"path\": \"nginx-sample-yaml\",\n",
      "            \"targetRevision\": \"main\"\n",
      "          },\n",
      "          \"destination\": {\n",
      "            \"server\": \"https://kubernetes.default.svc\",\n",
      "            \"namespace\": \"mxe\"\n",
      "          }\n",
      "        },\n",
      "        \"revision\": \"2130d03384ef2de023fbfe14f7a7f6416d4c6499\"\n",
      "      },\n",
      "      \"health\": {\n",
      "        \"status\": \"Healthy\"\n",
      "      },\n",
      "      \"reconciledAt\": \"2022-09-12T11:13:05Z\",\n",
      "      \"sourceType\": \"Directory\",\n",
      "      \"summary\": {\n",
      "        \"images\": [\n",
      "          \"armdockerhub.rnd.ericsson.se/nginx:latest\"\n",
      "        ]\n",
      "      }\n",
      "    }\n",
      "  }\n",
      "]\n",
      "\n"
     ]
    }
   ],
   "source": [
    "COMMAND=\"cli/mxe-deploy package list -o json\" \n",
    "\n",
    "OUTPUT=run_command(COMMAND)\n",
    "\n",
    "print(f\"Deployed Apps:\\n{OUTPUT}\", flush=True)\n"
   ]
  },
  {
   "cell_type": "markdown",
   "metadata": {},
   "source": [
    "### App sync command"
   ]
  },
  {
   "cell_type": "code",
   "execution_count": 58,
   "metadata": {},
   "outputs": [],
   "source": [
    "def sync(app_name, force=False, prune=False):\n",
    "    force = \"--force\" if force else \"\"\n",
    "    prune = \"--prune\" if prune else \"\"\n",
    "    COMMAND=f\"cli/mxe-deploy package sync {app_name} {force} {prune}\" \n",
    "    print(\"\\n Running sync command: \", COMMAND)\n",
    "    OUTPUT=run_command(COMMAND)\n",
    "    print(f\"App {app_name} sync status:\\n{OUTPUT}\", flush=True)\n"
   ]
  },
  {
   "cell_type": "code",
   "execution_count": 59,
   "metadata": {},
   "outputs": [
    {
     "name": "stdout",
     "output_type": "stream",
     "text": [
      "\n",
      " Running sync command:  cli/mxe-deploy package sync sample-hello-world-app2 --force --prune\n",
      "App sample-hello-world-app2 sync status:\n",
      "Sync for App: sample-hello-world-app2  has been initiated successfully\n",
      "\n"
     ]
    }
   ],
   "source": [
    "sync(app_name=\"sample-hello-world-app2\", force=True, prune=True)"
   ]
  },
  {
   "cell_type": "markdown",
   "metadata": {},
   "source": [
    "### Wait until app has synced/healthy status"
   ]
  },
  {
   "cell_type": "code",
   "execution_count": 60,
   "metadata": {},
   "outputs": [],
   "source": [
    "def wait(app_name, check_interval=10, max_attemps=2):\n",
    "    COMMAND=f\"cli/mxe-deploy package wait {app_name} --check-interval {check_interval} --max-attempts {max_attemps}\" \n",
    "    print(\"\\n Running wait command: \", COMMAND)\n",
    "    OUTPUT=run_command(COMMAND)\n",
    "    print(f\"App {app_name} wait status:\\n{OUTPUT}\", flush=True)"
   ]
  },
  {
   "cell_type": "code",
   "execution_count": 61,
   "metadata": {},
   "outputs": [
    {
     "name": "stdout",
     "output_type": "stream",
     "text": [
      "\n",
      " Running wait command:  cli/mxe-deploy package wait sample-hello-world-app2 --check-interval 5 --max-attempts 10\n",
      "App sample-hello-world-app2 wait status:\n",
      "Monitoring status of sample-hello-world-app2\n",
      "\n",
      "\n",
      "Waiting for 5 seconds\n",
      "Time:               2022-09-12T13:21:19+02:00\n",
      "Iteration           1\n",
      "Application:        sample-hello-world-app2\n",
      "SyncStatus:         Synced\n",
      "HealthStatus:       Healthy\n",
      "Conditions:         <none>\n",
      "OperationState:\n",
      "\tOperation:          Sync\n",
      "\tSync Revision:      945c7f6ab39a15f7fea03224960e9349af46cd51\n",
      "\tPhase:              Succeeded\n",
      "\tStart:              2022-09-12 13:19:00 +0200 CEST\n",
      "\tFinished:           2022-09-12 13:19:00 +0200 CEST\n",
      "\tDuration:           0s\n",
      "\tMessage:            successfully synced (all tasks run)\n",
      "\n",
      "\n",
      " Application sample-hello-world-app2 is synced and healthy\n",
      "\n",
      "\n",
      "Waiting for 5 seconds\n",
      "\n"
     ]
    }
   ],
   "source": [
    "wait(app_name=\"sample-hello-world-app2\", check_interval=5, max_attemps=10)"
   ]
  }
 ],
 "metadata": {
  "kernelspec": {
   "display_name": "Python 3.8.10 64-bit",
   "language": "python",
   "name": "python3"
  },
  "language_info": {
   "codemirror_mode": {
    "name": "ipython",
    "version": 3
   },
   "file_extension": ".py",
   "mimetype": "text/x-python",
   "name": "python",
   "nbconvert_exporter": "python",
   "pygments_lexer": "ipython3",
   "version": "3.8.10"
  },
  "orig_nbformat": 4,
  "vscode": {
   "interpreter": {
    "hash": "916dbcbb3f70747c44a77c7bcd40155683ae19c65e1c03b4aa3499c5328201f1"
   }
  }
 },
 "nbformat": 4,
 "nbformat_minor": 2
}
